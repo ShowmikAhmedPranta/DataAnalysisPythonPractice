{
 "cells": [
  {
   "cell_type": "code",
   "execution_count": 1,
   "id": "fdde9890",
   "metadata": {},
   "outputs": [],
   "source": [
    "#Quantile and bucket analysis"
   ]
  },
  {
   "cell_type": "code",
   "execution_count": 2,
   "id": "342cc22d",
   "metadata": {},
   "outputs": [],
   "source": [
    "import pandas as pd"
   ]
  },
  {
   "cell_type": "code",
   "execution_count": 3,
   "id": "b2f4b758",
   "metadata": {},
   "outputs": [],
   "source": [
    "pd.cut?"
   ]
  },
  {
   "cell_type": "code",
   "execution_count": 4,
   "id": "fc52ea8a",
   "metadata": {},
   "outputs": [],
   "source": [
    "a=[i for i in range(1,11)]"
   ]
  },
  {
   "cell_type": "code",
   "execution_count": 5,
   "id": "ded87630",
   "metadata": {},
   "outputs": [
    {
     "data": {
      "text/plain": [
       "[1, 2, 3, 4, 5, 6, 7, 8, 9, 10]"
      ]
     },
     "execution_count": 5,
     "metadata": {},
     "output_type": "execute_result"
    }
   ],
   "source": [
    "a"
   ]
  },
  {
   "cell_type": "code",
   "execution_count": 6,
   "id": "56c685f5",
   "metadata": {},
   "outputs": [],
   "source": [
    "q= pd.cut(a,4)"
   ]
  },
  {
   "cell_type": "code",
   "execution_count": 7,
   "id": "97217e6f",
   "metadata": {},
   "outputs": [
    {
     "data": {
      "text/plain": [
       "[(0.991, 3.25], (0.991, 3.25], (0.991, 3.25], (3.25, 5.5], (3.25, 5.5], (5.5, 7.75], (5.5, 7.75], (7.75, 10.0], (7.75, 10.0], (7.75, 10.0]]\n",
       "Categories (4, interval[float64]): [(0.991, 3.25] < (3.25, 5.5] < (5.5, 7.75] < (7.75, 10.0]]"
      ]
     },
     "execution_count": 7,
     "metadata": {},
     "output_type": "execute_result"
    }
   ],
   "source": [
    "q"
   ]
  },
  {
   "cell_type": "code",
   "execution_count": 8,
   "id": "5d05ce8b",
   "metadata": {},
   "outputs": [],
   "source": [
    "a=[i for i in range(1,13)]"
   ]
  },
  {
   "cell_type": "code",
   "execution_count": 9,
   "id": "0ab0ea7a",
   "metadata": {},
   "outputs": [
    {
     "data": {
      "text/plain": [
       "[1, 2, 3, 4, 5, 6, 7, 8, 9, 10, 11, 12]"
      ]
     },
     "execution_count": 9,
     "metadata": {},
     "output_type": "execute_result"
    }
   ],
   "source": [
    "a"
   ]
  },
  {
   "cell_type": "code",
   "execution_count": 10,
   "id": "b9a67b87",
   "metadata": {},
   "outputs": [],
   "source": [
    "q=pd.cut(a,4)"
   ]
  },
  {
   "cell_type": "code",
   "execution_count": 11,
   "id": "f46cd1c6",
   "metadata": {},
   "outputs": [
    {
     "data": {
      "text/plain": [
       "[(0.989, 3.75], (0.989, 3.75], (0.989, 3.75], (3.75, 6.5], (3.75, 6.5], ..., (6.5, 9.25], (6.5, 9.25], (9.25, 12.0], (9.25, 12.0], (9.25, 12.0]]\n",
       "Length: 12\n",
       "Categories (4, interval[float64]): [(0.989, 3.75] < (3.75, 6.5] < (6.5, 9.25] < (9.25, 12.0]]"
      ]
     },
     "execution_count": 11,
     "metadata": {},
     "output_type": "execute_result"
    }
   ],
   "source": [
    "q"
   ]
  },
  {
   "cell_type": "code",
   "execution_count": 12,
   "id": "8016971e",
   "metadata": {},
   "outputs": [],
   "source": [
    "def get_stats(group):\n",
    "    return {'min': group.min(),\n",
    "            'max': group.max(),\n",
    "           'count':group.count(),\n",
    "           'mean':group.mean()\n",
    "           }"
   ]
  },
  {
   "cell_type": "code",
   "execution_count": 16,
   "id": "61ef3888",
   "metadata": {},
   "outputs": [],
   "source": [
    "import numpy as np\n",
    "frame=pd.DataFrame({\n",
    "    'data1':np.random.randn(1000),\n",
    "    'data2':np.random.randn(1000)\n",
    "})"
   ]
  },
  {
   "cell_type": "code",
   "execution_count": 17,
   "id": "1d869ed0",
   "metadata": {},
   "outputs": [
    {
     "data": {
      "text/html": [
       "<div>\n",
       "<style scoped>\n",
       "    .dataframe tbody tr th:only-of-type {\n",
       "        vertical-align: middle;\n",
       "    }\n",
       "\n",
       "    .dataframe tbody tr th {\n",
       "        vertical-align: top;\n",
       "    }\n",
       "\n",
       "    .dataframe thead th {\n",
       "        text-align: right;\n",
       "    }\n",
       "</style>\n",
       "<table border=\"1\" class=\"dataframe\">\n",
       "  <thead>\n",
       "    <tr style=\"text-align: right;\">\n",
       "      <th></th>\n",
       "      <th>data1</th>\n",
       "      <th>data2</th>\n",
       "    </tr>\n",
       "  </thead>\n",
       "  <tbody>\n",
       "    <tr>\n",
       "      <th>0</th>\n",
       "      <td>0.259687</td>\n",
       "      <td>0.175887</td>\n",
       "    </tr>\n",
       "    <tr>\n",
       "      <th>1</th>\n",
       "      <td>-1.082057</td>\n",
       "      <td>2.235612</td>\n",
       "    </tr>\n",
       "    <tr>\n",
       "      <th>2</th>\n",
       "      <td>2.069687</td>\n",
       "      <td>0.244304</td>\n",
       "    </tr>\n",
       "    <tr>\n",
       "      <th>3</th>\n",
       "      <td>-0.375931</td>\n",
       "      <td>0.061430</td>\n",
       "    </tr>\n",
       "    <tr>\n",
       "      <th>4</th>\n",
       "      <td>-0.490958</td>\n",
       "      <td>-0.641644</td>\n",
       "    </tr>\n",
       "    <tr>\n",
       "      <th>...</th>\n",
       "      <td>...</td>\n",
       "      <td>...</td>\n",
       "    </tr>\n",
       "    <tr>\n",
       "      <th>995</th>\n",
       "      <td>1.893718</td>\n",
       "      <td>0.077132</td>\n",
       "    </tr>\n",
       "    <tr>\n",
       "      <th>996</th>\n",
       "      <td>-1.358124</td>\n",
       "      <td>-0.388344</td>\n",
       "    </tr>\n",
       "    <tr>\n",
       "      <th>997</th>\n",
       "      <td>-0.008600</td>\n",
       "      <td>-1.029496</td>\n",
       "    </tr>\n",
       "    <tr>\n",
       "      <th>998</th>\n",
       "      <td>-0.205740</td>\n",
       "      <td>1.358214</td>\n",
       "    </tr>\n",
       "    <tr>\n",
       "      <th>999</th>\n",
       "      <td>0.540340</td>\n",
       "      <td>0.669917</td>\n",
       "    </tr>\n",
       "  </tbody>\n",
       "</table>\n",
       "<p>1000 rows × 2 columns</p>\n",
       "</div>"
      ],
      "text/plain": [
       "        data1     data2\n",
       "0    0.259687  0.175887\n",
       "1   -1.082057  2.235612\n",
       "2    2.069687  0.244304\n",
       "3   -0.375931  0.061430\n",
       "4   -0.490958 -0.641644\n",
       "..        ...       ...\n",
       "995  1.893718  0.077132\n",
       "996 -1.358124 -0.388344\n",
       "997 -0.008600 -1.029496\n",
       "998 -0.205740  1.358214\n",
       "999  0.540340  0.669917\n",
       "\n",
       "[1000 rows x 2 columns]"
      ]
     },
     "execution_count": 17,
     "metadata": {},
     "output_type": "execute_result"
    }
   ],
   "source": [
    "frame"
   ]
  },
  {
   "cell_type": "code",
   "execution_count": 18,
   "id": "18cd1912",
   "metadata": {},
   "outputs": [],
   "source": [
    "quartile = pd.cut(frame.data1,4)"
   ]
  },
  {
   "cell_type": "code",
   "execution_count": 19,
   "id": "2ad3fdb7",
   "metadata": {},
   "outputs": [],
   "source": [
    "grouped = frame.data2.groupby(quartile)"
   ]
  },
  {
   "cell_type": "code",
   "execution_count": 20,
   "id": "0c83cd33",
   "metadata": {},
   "outputs": [
    {
     "data": {
      "text/plain": [
       "data1                  \n",
       "(-3.078, -1.352]  min       -2.310857\n",
       "                  max        2.248097\n",
       "                  count     95.000000\n",
       "                  mean      -0.046465\n",
       "(-1.352, 0.368]   min       -2.686549\n",
       "                  max        3.446935\n",
       "                  count    551.000000\n",
       "                  mean       0.029482\n",
       "(0.368, 2.087]    min       -2.952614\n",
       "                  max        2.777421\n",
       "                  count    333.000000\n",
       "                  mean      -0.030315\n",
       "(2.087, 3.807]    min       -2.285262\n",
       "                  max        1.571326\n",
       "                  count     21.000000\n",
       "                  mean      -0.091979\n",
       "Name: data2, dtype: float64"
      ]
     },
     "execution_count": 20,
     "metadata": {},
     "output_type": "execute_result"
    }
   ],
   "source": [
    "grouped.apply(get_stats)"
   ]
  },
  {
   "cell_type": "code",
   "execution_count": 21,
   "id": "f3f87440",
   "metadata": {},
   "outputs": [
    {
     "data": {
      "text/html": [
       "<div>\n",
       "<style scoped>\n",
       "    .dataframe tbody tr th:only-of-type {\n",
       "        vertical-align: middle;\n",
       "    }\n",
       "\n",
       "    .dataframe tbody tr th {\n",
       "        vertical-align: top;\n",
       "    }\n",
       "\n",
       "    .dataframe thead th {\n",
       "        text-align: right;\n",
       "    }\n",
       "</style>\n",
       "<table border=\"1\" class=\"dataframe\">\n",
       "  <thead>\n",
       "    <tr style=\"text-align: right;\">\n",
       "      <th></th>\n",
       "      <th>min</th>\n",
       "      <th>max</th>\n",
       "      <th>count</th>\n",
       "      <th>mean</th>\n",
       "    </tr>\n",
       "    <tr>\n",
       "      <th>data1</th>\n",
       "      <th></th>\n",
       "      <th></th>\n",
       "      <th></th>\n",
       "      <th></th>\n",
       "    </tr>\n",
       "  </thead>\n",
       "  <tbody>\n",
       "    <tr>\n",
       "      <th>(-3.078, -1.352]</th>\n",
       "      <td>-2.310857</td>\n",
       "      <td>2.248097</td>\n",
       "      <td>95.0</td>\n",
       "      <td>-0.046465</td>\n",
       "    </tr>\n",
       "    <tr>\n",
       "      <th>(-1.352, 0.368]</th>\n",
       "      <td>-2.686549</td>\n",
       "      <td>3.446935</td>\n",
       "      <td>551.0</td>\n",
       "      <td>0.029482</td>\n",
       "    </tr>\n",
       "    <tr>\n",
       "      <th>(0.368, 2.087]</th>\n",
       "      <td>-2.952614</td>\n",
       "      <td>2.777421</td>\n",
       "      <td>333.0</td>\n",
       "      <td>-0.030315</td>\n",
       "    </tr>\n",
       "    <tr>\n",
       "      <th>(2.087, 3.807]</th>\n",
       "      <td>-2.285262</td>\n",
       "      <td>1.571326</td>\n",
       "      <td>21.0</td>\n",
       "      <td>-0.091979</td>\n",
       "    </tr>\n",
       "  </tbody>\n",
       "</table>\n",
       "</div>"
      ],
      "text/plain": [
       "                       min       max  count      mean\n",
       "data1                                                \n",
       "(-3.078, -1.352] -2.310857  2.248097   95.0 -0.046465\n",
       "(-1.352, 0.368]  -2.686549  3.446935  551.0  0.029482\n",
       "(0.368, 2.087]   -2.952614  2.777421  333.0 -0.030315\n",
       "(2.087, 3.807]   -2.285262  1.571326   21.0 -0.091979"
      ]
     },
     "execution_count": 21,
     "metadata": {},
     "output_type": "execute_result"
    }
   ],
   "source": [
    "grouped.apply(get_stats).unstack()"
   ]
  },
  {
   "cell_type": "code",
   "execution_count": null,
   "id": "5891dce6",
   "metadata": {},
   "outputs": [],
   "source": []
  }
 ],
 "metadata": {
  "kernelspec": {
   "display_name": "Python 3",
   "language": "python",
   "name": "python3"
  },
  "language_info": {
   "codemirror_mode": {
    "name": "ipython",
    "version": 3
   },
   "file_extension": ".py",
   "mimetype": "text/x-python",
   "name": "python",
   "nbconvert_exporter": "python",
   "pygments_lexer": "ipython3",
   "version": "3.8.8"
  }
 },
 "nbformat": 4,
 "nbformat_minor": 5
}
