{
 "cells": [
  {
   "cell_type": "code",
   "execution_count": 1,
   "id": "50b2ace4",
   "metadata": {},
   "outputs": [],
   "source": [
    "import numpy as np, pandas as pd"
   ]
  },
  {
   "cell_type": "code",
   "execution_count": 2,
   "id": "3ff624e7",
   "metadata": {},
   "outputs": [],
   "source": [
    "from datetime import datetime"
   ]
  },
  {
   "cell_type": "code",
   "execution_count": 3,
   "id": "437510dc",
   "metadata": {},
   "outputs": [],
   "source": [
    "#time series with duplicate indices"
   ]
  },
  {
   "cell_type": "code",
   "execution_count": 4,
   "id": "d179718d",
   "metadata": {},
   "outputs": [],
   "source": [
    "pd.DatetimeIndex?"
   ]
  },
  {
   "cell_type": "code",
   "execution_count": null,
   "id": "5aa0af27",
   "metadata": {},
   "outputs": [],
   "source": [
    "dates=pd.DatetimeIndex(['1/1/2000','1/2/2000','1/2/2000','1/2/2000','1/3'])"
   ]
  }
 ],
 "metadata": {
  "kernelspec": {
   "display_name": "Python 3",
   "language": "python",
   "name": "python3"
  },
  "language_info": {
   "codemirror_mode": {
    "name": "ipython",
    "version": 3
   },
   "file_extension": ".py",
   "mimetype": "text/x-python",
   "name": "python",
   "nbconvert_exporter": "python",
   "pygments_lexer": "ipython3",
   "version": "3.8.8"
  }
 },
 "nbformat": 4,
 "nbformat_minor": 5
}
